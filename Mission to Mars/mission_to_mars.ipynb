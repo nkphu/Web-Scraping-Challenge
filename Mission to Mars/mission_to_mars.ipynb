{
 "cells": [
  {
   "cell_type": "code",
   "execution_count": 3,
   "metadata": {},
   "outputs": [],
   "source": [
    "from splinter import Browser\n",
    "from bs4 import BeautifulSoup\n",
    "from webdriver_manager.chrome import ChromeDriverManager\n",
    "import pandas as pd\n",
    "import requests\n",
    "import time\n",
    "import pymongo\n",
    "from IPython.display import Image\n",
    "import pandas as pd"
   ]
  },
  {
   "cell_type": "markdown",
   "metadata": {},
   "source": [
    "NASA Mars News - The Latest News Title and Paragraph "
   ]
  },
  {
   "cell_type": "code",
   "execution_count": null,
   "metadata": {},
   "outputs": [],
   "source": [
    "executable_path = {'executable_path': ChromeDriverManager().install()}\n",
    "browser = Browser('chrome', **executable_path, headless=False)"
   ]
  },
  {
   "cell_type": "code",
   "execution_count": 5,
   "metadata": {},
   "outputs": [],
   "source": [
    "url = 'http://redplanetscience.com/'\n",
    "browser.visit(url)"
   ]
  },
  {
   "cell_type": "code",
   "execution_count": 6,
   "metadata": {},
   "outputs": [],
   "source": [
    "time.sleep(1)\n",
    "html = browser.html\n",
    "soup = BeautifulSoup(html, 'html.parser')"
   ]
  },
  {
   "cell_type": "code",
   "execution_count": null,
   "metadata": {},
   "outputs": [],
   "source": [
    "news_title = soup.find('div', class_=\"content_title\").text\n",
    "news_title\n"
   ]
  },
  {
   "cell_type": "code",
   "execution_count": null,
   "metadata": {},
   "outputs": [],
   "source": [
    "news_p = soup.find('div', class_=\"article_teaser_body\").text\n",
    "news_p"
   ]
  },
  {
   "cell_type": "markdown",
   "metadata": {},
   "source": [
    "JPL Mars Space Images - Featured Image"
   ]
  },
  {
   "cell_type": "code",
   "execution_count": 9,
   "metadata": {},
   "outputs": [],
   "source": [
    "url = 'https://spaceimages-mars.com/'\n",
    "browser.visit(url)"
   ]
  },
  {
   "cell_type": "code",
   "execution_count": 10,
   "metadata": {},
   "outputs": [],
   "source": [
    "time.sleep(1)\n",
    "html = browser.html\n",
    "soup = BeautifulSoup(html, 'html.parser')"
   ]
  },
  {
   "cell_type": "code",
   "execution_count": null,
   "metadata": {},
   "outputs": [],
   "source": [
    "featured_image = soup.find('img', class_=\"headerimage fade-in\")\n",
    "featured_image_url = url + featured_image['src']\n",
    "print(featured_image_url)"
   ]
  },
  {
   "cell_type": "markdown",
   "metadata": {},
   "source": [
    "Mars Facts"
   ]
  },
  {
   "cell_type": "code",
   "execution_count": 12,
   "metadata": {},
   "outputs": [],
   "source": [
    "url = 'https://galaxyfacts-mars.com/'"
   ]
  },
  {
   "cell_type": "code",
   "execution_count": null,
   "metadata": {},
   "outputs": [],
   "source": [
    "tables = pd.read_html(url)\n",
    "tables\n"
   ]
  },
  {
   "cell_type": "code",
   "execution_count": null,
   "metadata": {},
   "outputs": [],
   "source": [
    "tables_df = tables[1]\n",
    "tables_df.columns=['description', 'value']\n",
    "tables_df = tables_df.reset_index(drop=True)\n",
    "tables_df.head()"
   ]
  },
  {
   "cell_type": "code",
   "execution_count": null,
   "metadata": {},
   "outputs": [],
   "source": [
    "html_table = tables_df.to_html()\n",
    "html_table"
   ]
  },
  {
   "cell_type": "code",
   "execution_count": null,
   "metadata": {},
   "outputs": [],
   "source": [
    "html_table.replace('\\n', '')"
   ]
  },
  {
   "cell_type": "code",
   "execution_count": 17,
   "metadata": {},
   "outputs": [],
   "source": [
    "tables_df.to_html('table.html')"
   ]
  },
  {
   "cell_type": "markdown",
   "metadata": {},
   "source": [
    "Mars Hemispheres"
   ]
  },
  {
   "cell_type": "code",
   "execution_count": 18,
   "metadata": {},
   "outputs": [],
   "source": [
    "url = 'https://marshemispheres.com/'\n",
    "browser.visit(url)"
   ]
  },
  {
   "cell_type": "code",
   "execution_count": null,
   "metadata": {},
   "outputs": [],
   "source": [
    "images = browser.find_by_css('.thumb')\n",
    "for i in images:\n",
    "    print (i)   "
   ]
  },
  {
   "cell_type": "code",
   "execution_count": null,
   "metadata": {},
   "outputs": [],
   "source": [
    "browser.visit(url)\n",
    "html = browser.html\n",
    "soup = BeautifulSoup(html, 'html.parser')\n",
    "time.sleep(2)\n",
    "\n",
    "images = browser.find_by_css('.collapsible results')\n",
    "\n",
    "# for i in images:\n",
    "soup.find(\"thumb\")\n",
    "# print (soup.find(\"thumb\"))\n",
    "\n",
    "hemisphere_links = soup.find_all(\"a\", {\"class\":\"itemLink product-item\"})\n",
    "# print (hemisphere_links)\n",
    "\n",
    "links = []\n",
    "\n",
    "\n",
    "for a in hemisphere_links:\n",
    "    a[\"href\"]\n",
    "    links.append(a[\"href\"])\n",
    "\n",
    "\n",
    "links = list(dict.fromkeys(links))\n",
    "# print(links)\n",
    "links.remove(\"#\")\n",
    "# print(links)\n",
    "\n",
    "hemispheres_url = []\n",
    "img_url= []\n",
    "titles = []\n",
    "\n",
    "for i in links:\n",
    "    \n",
    "    browser.visit(f\"https://marshemispheres.com/{i}\")\n",
    "    # print(f\"https://marshemispheres.com/{i}\")\n",
    "    time.sleep(1)\n",
    "    html = browser.html\n",
    "    # print (html)\n",
    "    soup = BeautifulSoup(html, 'html.parser')\n",
    "    hemispheres = {}\n",
    "    hemispheres['img_url'] = url + soup.find(\"img\", class_ = \"wide-image\")[\"src\"]\n",
    "    hemispheres['titles'] = soup.find(\"h2\", class_=\"title\").text\n",
    "    hemispheres_url.append(hemispheres)\n",
    "    # img_url.append(hemispheres['img_url'])\n",
    "    # titles.append(hemispheres['titles'])\n",
    "print(hemispheres_url)\n"
   ]
  }
 ],
 "metadata": {
  "interpreter": {
   "hash": "ccaa7d7c5840e32034f18d3f581a3973b7e15595ca088c3b4d3fdc5e661c7467"
  },
  "kernelspec": {
   "display_name": "Python 3.8.8 64-bit ('base': conda)",
   "name": "python3"
  },
  "language_info": {
   "codemirror_mode": {
    "name": "ipython",
    "version": 3
   },
   "file_extension": ".py",
   "mimetype": "text/x-python",
   "name": "python",
   "nbconvert_exporter": "python",
   "pygments_lexer": "ipython3",
   "version": "3.8.8"
  },
  "orig_nbformat": 4
 },
 "nbformat": 4,
 "nbformat_minor": 2
}
